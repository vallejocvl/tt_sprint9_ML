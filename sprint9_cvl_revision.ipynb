{
 "cells": [
  {
   "cell_type": "markdown",
   "id": "d7d56163",
   "metadata": {},
   "source": [
    "# ¡Hola Carlos! 😊\n",
    "\n",
    "Mi nombre es **Alejandro Castellanos** y hoy tengo el placer de ser el revisor de tu proyecto.\n",
    "\n",
    "Voy a revisar todo tu código con detalle, buscando tanto los puntos fuertes como aquellos en los que podrías mejorar. Te dejaré comentarios a lo largo del notebook, destacando lo que has hecho bien y sugiriendo ajustes donde sea necesario. Si encuentro algún error, no te preocupes, te lo haré saber de forma clara y te daré información útil para que puedas corregirlo en la próxima iteración. Si en algún punto tienes comentarios, siéntete libre de dejarlos también.\n",
    "\n",
    "\n",
    "Encontrarás mis comentarios específicos dentro de cajas verdes, amarillas o rojas, es muy importante que no muevas, modifiques o borres mis comentarios, con el fin de tener un seguimiento adecuado de tu proceso:\n",
    "\n",
    "\n",
    "<div class=\"alert alert-block alert-success\">\n",
    "<b>Comentario del revisor</b> <a class=“tocSkip”></a>\n",
    "Si todo está perfecto.\n",
    "</div>\n",
    "\n",
    "<div class=\"alert alert-block alert-warning\">\n",
    "<b>Comentario del revisor</b> <a class=“tocSkip”></a>\n",
    "Si tu código está bien pero se puede mejorar o hay algún detalle que le hace falta.\n",
    "</div>\n",
    "\n",
    "<div class=\"alert alert-block alert-danger\">\n",
    "<b>Comentario del revisor</b> <a class=“tocSkip”></a>\n",
    "Si de pronto hace falta algo o existe algún problema con tu código o conclusiones.\n",
    "</div>\n",
    "\n",
    "Puedes responderme de esta forma:\n",
    "<div class=\"alert alert-block alert-info\">\n",
    "<b>Respuesta del estudiante</b> <a class=“tocSkip”></a>\n",
    "</div>\n",
    "\n",
    "A continuación te dejaré un comentario general con mi valoración del proyecto. **¡Mi objetivo es que sigas aprendiendo y mejorando con cada paso!**"
   ]
  },
  {
   "cell_type": "markdown",
   "id": "fdcd8af3",
   "metadata": {},
   "source": [
    "----"
   ]
  },
  {
   "cell_type": "markdown",
   "id": "0009e866",
   "metadata": {},
   "source": [
    "<div class=\"alert alert-block alert-success\">\n",
    "<b>Comentario General del revisor (1ra Iteración)</b> <a class=“tocSkip”></a>\n",
    "\n",
    "Carlos hiciste una correcta revisión de los datos, esto es clave para definir la mejor estrategía . La implementación del modelo de clasificación fue correcta, ya que has logrado alcanzar los niveles de exactitud establecidos como objetivo. Para elevar aún más la calidad de tu trabajo, podrías considerar la implementación de técnicas de preprocesamiento como el escalado o normalización de variables numéricas. Me complace ver tu dominio de las técnicas de machine learning y confío en que estas sugerencias te ayudarán en futuros proyectos.\n",
    "    \n",
    "Éxitos en tu próximo Sprint 🚀\n",
    "\n",
    "*Estado del Proyecto:* **Aprobado**\n",
    "</div>"
   ]
  },
  {
   "cell_type": "markdown",
   "id": "0b5dd803",
   "metadata": {},
   "source": [
    "---"
   ]
  },
  {
   "cell_type": "markdown",
   "id": "a002662e",
   "metadata": {},
   "source": [
    "# Descripción del proyecto\n",
    "La compañía móvil Megaline no está satisfecha al ver que muchos de sus clientes utilizan planes heredados. Quieren desarrollar un modelo que pueda analizar el comportamiento de los clientes y recomendar uno de los nuevos planes de Megaline: Smart o Ultra.\n",
    "\n",
    "Tienes acceso a los datos de comportamiento de los suscriptores que ya se han cambiado a los planes nuevos (del proyecto del sprint de Análisis estadístico de datos). Para esta tarea de clasificación debes crear un modelo que escoja el plan correcto. Como ya hiciste el paso de procesar los datos, puedes lanzarte directo a crear el modelo.#\n",
    "\n",
    "Desarrolla un modelo con la mayor *exactitud* posible. En este proyecto, el umbral de *exactitud* es 0.75. Usa el dataset para comprobar la *exactitud*.\n",
    "\n",
    "## Instrucciones del proyecto.\n",
    "\n",
    "1. Abre y examina el archivo de datos. Dirección al archivo:/datasets/users_behavior.csv Descarga el dataset\n",
    "2. Segmenta los datos fuente en un conjunto de entrenamiento, uno de validación y uno de prueba.\n",
    "3. Investiga la calidad de diferentes modelos cambiando los hiperparámetros. Describe brevemente los hallazgos del estudio.\n",
    "4. Comprueba la calidad del modelo usando el conjunto de prueba.\n",
    "5. Tarea adicional: haz una prueba de cordura al modelo. Estos datos son más complejos que los que habías usado antes así que no será una tarea fácil. Más adelante lo veremos con más detalle.\n",
    "\n",
    "## Descripción de datos\n",
    "Cada observación en el dataset contiene información del comportamiento mensual sobre un usuario. La información dada es la siguiente:\n",
    "\n",
    "* сalls — número de llamadas,\n",
    "* minutes — duración total de la llamada en minutos,\n",
    "* messages — número de mensajes de texto,\n",
    "* mb_used — Tráfico de Internet utilizado en MB,\n",
    "* is_ultra — plan para el mes actual (Ultra - 1, Smart - 0).\n",
    "\n",
    "## Evaluación del proyecto\n",
    "Hemos definido los criterios de evaluación para el proyecto. Lee esto con atención antes de pasar al ejercicio. \n",
    "\n",
    "Esto es lo que los revisores buscarán cuando evalúen tu proyecto:\n",
    "\n",
    "* ¿Cómo leíste los datos después de descargarlos?\n",
    "* ¿Segmentaste correctamente los datos en conjuntos de entrenamiento, validación y prueba?\n",
    "* ¿Cómo escogiste el tamaño de los conjuntos?\n",
    "* ¿Evaluaste correctamente la calidad del modelo?\n",
    "* ¿Qué modelos e hiperparámentros usaste?\n",
    "* ¿Cuáles fueron tus hallazgos?\n",
    "* ¿Probaste los modelos correctamente?\n",
    "* ¿Cuál es tu puntuación de exactitud?\n",
    "* ¿Te ceñiste a la estructura del proyecto y mantuviste limpio el código?*"
   ]
  },
  {
   "cell_type": "markdown",
   "id": "629ac371",
   "metadata": {},
   "source": [
    "## Análisis Exploratorio"
   ]
  },
  {
   "cell_type": "code",
   "execution_count": 39,
   "id": "7561dc76",
   "metadata": {},
   "outputs": [],
   "source": [
    "# Importo mis librerias\n",
    "import pandas as pd\n",
    "from sklearn.model_selection import train_test_split\n",
    "from sklearn.tree import DecisionTreeClassifier\n",
    "from sklearn.ensemble import RandomForestClassifier\n",
    "from sklearn.linear_model import LogisticRegression\n",
    "from sklearn.metrics import accuracy_score"
   ]
  },
  {
   "cell_type": "code",
   "execution_count": 40,
   "id": "c4e4957a",
   "metadata": {},
   "outputs": [
    {
     "data": {
      "text/html": [
       "<div>\n",
       "<style scoped>\n",
       "    .dataframe tbody tr th:only-of-type {\n",
       "        vertical-align: middle;\n",
       "    }\n",
       "\n",
       "    .dataframe tbody tr th {\n",
       "        vertical-align: top;\n",
       "    }\n",
       "\n",
       "    .dataframe thead th {\n",
       "        text-align: right;\n",
       "    }\n",
       "</style>\n",
       "<table border=\"1\" class=\"dataframe\">\n",
       "  <thead>\n",
       "    <tr style=\"text-align: right;\">\n",
       "      <th></th>\n",
       "      <th>calls</th>\n",
       "      <th>minutes</th>\n",
       "      <th>messages</th>\n",
       "      <th>mb_used</th>\n",
       "      <th>is_ultra</th>\n",
       "    </tr>\n",
       "  </thead>\n",
       "  <tbody>\n",
       "    <tr>\n",
       "      <th>0</th>\n",
       "      <td>40.0</td>\n",
       "      <td>311.90</td>\n",
       "      <td>83.0</td>\n",
       "      <td>19915.42</td>\n",
       "      <td>0</td>\n",
       "    </tr>\n",
       "    <tr>\n",
       "      <th>1</th>\n",
       "      <td>85.0</td>\n",
       "      <td>516.75</td>\n",
       "      <td>56.0</td>\n",
       "      <td>22696.96</td>\n",
       "      <td>0</td>\n",
       "    </tr>\n",
       "    <tr>\n",
       "      <th>2</th>\n",
       "      <td>77.0</td>\n",
       "      <td>467.66</td>\n",
       "      <td>86.0</td>\n",
       "      <td>21060.45</td>\n",
       "      <td>0</td>\n",
       "    </tr>\n",
       "    <tr>\n",
       "      <th>3</th>\n",
       "      <td>106.0</td>\n",
       "      <td>745.53</td>\n",
       "      <td>81.0</td>\n",
       "      <td>8437.39</td>\n",
       "      <td>1</td>\n",
       "    </tr>\n",
       "    <tr>\n",
       "      <th>4</th>\n",
       "      <td>66.0</td>\n",
       "      <td>418.74</td>\n",
       "      <td>1.0</td>\n",
       "      <td>14502.75</td>\n",
       "      <td>0</td>\n",
       "    </tr>\n",
       "  </tbody>\n",
       "</table>\n",
       "</div>"
      ],
      "text/plain": [
       "   calls  minutes  messages   mb_used  is_ultra\n",
       "0   40.0   311.90      83.0  19915.42         0\n",
       "1   85.0   516.75      56.0  22696.96         0\n",
       "2   77.0   467.66      86.0  21060.45         0\n",
       "3  106.0   745.53      81.0   8437.39         1\n",
       "4   66.0   418.74       1.0  14502.75         0"
      ]
     },
     "execution_count": 40,
     "metadata": {},
     "output_type": "execute_result"
    }
   ],
   "source": [
    "# Importo y exploro mi dataframe\n",
    "df = pd.read_csv('datasets/users_behavior.csv')\n",
    "df.head()"
   ]
  },
  {
   "cell_type": "code",
   "execution_count": 41,
   "id": "29afc123",
   "metadata": {},
   "outputs": [
    {
     "name": "stdout",
     "output_type": "stream",
     "text": [
      "<class 'pandas.core.frame.DataFrame'>\n",
      "RangeIndex: 3214 entries, 0 to 3213\n",
      "Data columns (total 5 columns):\n",
      " #   Column    Non-Null Count  Dtype  \n",
      "---  ------    --------------  -----  \n",
      " 0   calls     3214 non-null   float64\n",
      " 1   minutes   3214 non-null   float64\n",
      " 2   messages  3214 non-null   float64\n",
      " 3   mb_used   3214 non-null   float64\n",
      " 4   is_ultra  3214 non-null   int64  \n",
      "dtypes: float64(4), int64(1)\n",
      "memory usage: 125.7 KB\n"
     ]
    }
   ],
   "source": [
    "# Usemos info para ver si los datos son del tipo correcto\n",
    "df.info()"
   ]
  },
  {
   "cell_type": "markdown",
   "id": "8031d27a",
   "metadata": {},
   "source": [
    "<div class=\"alert alert-block alert-success\">\n",
    "<b>Comentario del revisor (1ra Iteración)</b> <a class=“tocSkip”></a>\n",
    "\n",
    "Muy buen trabajo importando las librerías y los datos del proyecto. Adicionalmente usaste correctamente las funciones `info` y `head`, esto te permite hacer una primera revisión de los datos, su estructura y contenido. Con esta información, podemos establecer una hoja de ruta para ajustar, modificar y analizar los datos de una manera adecuada.\n",
    "\n",
    "</div>"
   ]
  },
  {
   "cell_type": "code",
   "execution_count": 42,
   "id": "e82b4e05",
   "metadata": {
    "scrolled": true
   },
   "outputs": [
    {
     "name": "stdout",
     "output_type": "stream",
     "text": [
      "El dataframe tiene una cantidad de 0 valores duplicados\n"
     ]
    }
   ],
   "source": [
    "# Busco valores duplicados\n",
    "print(f'El dataframe tiene una cantidad de {df.duplicated().sum()} valores duplicados')"
   ]
  },
  {
   "cell_type": "markdown",
   "id": "0aa6a9f7",
   "metadata": {},
   "source": [
    "<div class=\"alert alert-block alert-success\">\n",
    "<b>Comentario del revisor (1ra Iteración)</b> <a class=“tocSkip”></a>\n",
    "\n",
    "Muy buen trabajo validando la presencia de datos duplicados. Esto ayuda a evitar sesgos, mejora la calidad del análisis y hace que los modelos sean más precisos. \n",
    "\n",
    "</div>"
   ]
  },
  {
   "cell_type": "markdown",
   "id": "79c174ae",
   "metadata": {},
   "source": [
    "Mi *df* no tiene valores duplicados, y todos los datos se ven del tipo correcto, quiza podria pasar el numero de mensajes a **INT** pero en este caso lo dejare así por si necesito tener alguna fraccion, o llego a ocupar algun promedio del mismo."
   ]
  },
  {
   "cell_type": "code",
   "execution_count": 43,
   "id": "ba75e7d7",
   "metadata": {},
   "outputs": [],
   "source": [
    "# Inicializo mis variables\n",
    "features = df.drop(['is_ultra'], axis=1)\n",
    "target = df['is_ultra']"
   ]
  },
  {
   "cell_type": "markdown",
   "id": "9f3a09ed",
   "metadata": {},
   "source": [
    "En este caso, aplicaré una división del 60%, 20% y 20% para los conjuntos de entrenamiento, validación y prueba, respectivamente.  \n",
    "Como no se cuenta con un segundo conjunto de datos para validación, realizaré la partición directamente a partir del dataset original utilizando la función train_test_split de Scikit-learn."
   ]
  },
  {
   "cell_type": "code",
   "execution_count": 44,
   "id": "d9289a3f",
   "metadata": {},
   "outputs": [],
   "source": [
    "# Split train/validation/test\n",
    "\n",
    "# Separo para obtener 60% de mis valores para train, el 40% restante lo nombro both para aplicarle un segundo split\n",
    "features_train, features_both, target_train, target_both = train_test_split(features, target, test_size=0.4, random_state=54321)\n",
    "\n",
    "# Uso mi segundo split para obtener un 20% y 20% de mi valor total, aqui aplico un .5 de test size para dividirlo correctamente\n",
    "features_valid, features_test, target_valid, target_test = train_test_split(features_both, target_both, test_size=0.4, random_state=54321)"
   ]
  },
  {
   "cell_type": "markdown",
   "id": "a835fb0f",
   "metadata": {},
   "source": [
    "<div class=\"alert alert-block alert-success\">\n",
    "<b>Comentario del revisor (1ra Iteración)</b> <a class=“tocSkip”></a>\n",
    "\n",
    "Hiciste correctamente la división de los datos en los tres subconjuntos necesarios. Esto permitirá encontrar el mejor modelo de una manera optima y garantizando su robustez\n",
    "\n",
    "</div>"
   ]
  },
  {
   "cell_type": "code",
   "execution_count": 45,
   "id": "5a68c93c",
   "metadata": {},
   "outputs": [
    {
     "name": "stdout",
     "output_type": "stream",
     "text": [
      "Mejor exactitud: 0.7847 con max_depth = 10\n"
     ]
    }
   ],
   "source": [
    "# Modelo DecisionTree Classifier\n",
    "\n",
    "# Inicializo mis valores en 0\n",
    "best_score = 0\n",
    "best_depth = None\n",
    "best_model_tree = None\n",
    "\n",
    "# Itero sobre depth [1:11] para definir la mejor profundidad\n",
    "for depth in range(1, 11):\n",
    "    model = DecisionTreeClassifier(random_state=54321, max_depth=depth)\n",
    "    model.fit(features_train, target_train)\n",
    "    score = model.score(features_valid, target_valid)\n",
    "    \n",
    "    # Agrego un condicionamiento para guardar la opcion con accuracy mas alto\n",
    "    if score > best_score:\n",
    "        best_score = score\n",
    "        best_depth = depth\n",
    "        best_model_tree = model\n",
    "\n",
    "print(f\"Mejor exactitud: {best_score:.4f} con max_depth = {best_depth}\")"
   ]
  },
  {
   "cell_type": "markdown",
   "id": "c67bd061",
   "metadata": {},
   "source": [
    "<div class=\"alert alert-block alert-success\">\n",
    "<b>Comentario del revisor (1ra Iteración)</b> <a class=“tocSkip”></a>\n",
    "\n",
    "Buen trabajo realizndo la optimización de hiperparámetros, esto permite encontrar la mejor configuración para el modelo\n",
    "\n",
    "<div class=\"alert alert-block alert-warning\">\n",
    "<b>Comentario del revisor (1ra Iteración)</b> <a class=“tocSkip”></a>\n",
    "\n",
    "Una buena práctica es entrenar el modelo con la configuración por defecto del modelo, con el fin de tener una referencia respecto al resultado de la optimización\n",
    "\n",
    "</div>\n",
    "\n",
    "</div>"
   ]
  },
  {
   "cell_type": "code",
   "execution_count": 53,
   "id": "dbb43fad",
   "metadata": {},
   "outputs": [
    {
     "name": "stdout",
     "output_type": "stream",
     "text": [
      "Mejor Forest es 10 arboles, con profundidad de 10, con una exactitud de: 0.8054474708171206\n"
     ]
    }
   ],
   "source": [
    "# Modelo de Bosque Aleatorio\n",
    "\n",
    "# Inicializo mis valores en 0\n",
    "best_score = 0\n",
    "best_est = 0\n",
    "best_model_forest = None\n",
    "\n",
    "# Inicio un ciclo for donde veo de 10 arbol a 51 en multiplos de 10\n",
    "for est in range(10, 51, 10): \n",
    "    # Inicio un segundo ciclo for para ver la mejor profundiad de arbol de 1 a 10\n",
    "    for depth in range(1, 11):  # profundidad\n",
    "        model = RandomForestClassifier(random_state=54321, n_estimators=est, max_depth=depth)\n",
    "        model.fit(features_train, target_train)\n",
    "        score = model.score(features_valid, target_valid)\n",
    "        if score > best_score:\n",
    "            best_score = score\n",
    "            best_est = est\n",
    "            best_depth = depth\n",
    "            best_model_forest = model\n",
    "\n",
    "print(f\"Mejor Forest es {best_est} arboles, con profundidad de {best_depth}, con una exactitud de: {best_score}\")"
   ]
  },
  {
   "cell_type": "code",
   "execution_count": 54,
   "id": "88b03c38",
   "metadata": {},
   "outputs": [
    {
     "name": "stdout",
     "output_type": "stream",
     "text": [
      "Accuracy del modelo de regresión logística en el conjunto de entrenamiento: 0.6964980544747081\n"
     ]
    }
   ],
   "source": [
    "# Modelo de Regresion Logistica\n",
    "\n",
    "model = LogisticRegression(random_state=54321, solver='liblinear')\n",
    "model.fit(features_train, target_train)\n",
    "score = model.score(features_valid, target_valid)\n",
    "\n",
    "print('Accuracy del modelo de regresión logística en el conjunto de entrenamiento:', score)"
   ]
  },
  {
   "cell_type": "markdown",
   "id": "aac564fd",
   "metadata": {},
   "source": [
    "El accuracy mas grande en el dataset de entrenamiento me lo dio el modelo de RandomForest con hiperparametros de 10 arboles y profundidad de 10 y un accuracy de 80.54%. Seguido de mi DecisionTree con hiperparametro de profundidad de 10 y un accuracy del 78.47%, finalmente fue mi modelo de regresión lineal con un accuracy de 69.64%."
   ]
  },
  {
   "cell_type": "code",
   "execution_count": 57,
   "id": "988d2967",
   "metadata": {},
   "outputs": [
    {
     "name": "stdout",
     "output_type": "stream",
     "text": [
      "El mejor modelo fue: RandomForestClassifier(max_depth=10, n_estimators=10, random_state=54321)\n",
      "\n",
      "Accuracy en mi set de validación es de: 0.8054474708171206\n",
      "\n",
      "Accuracy en mi set de test es de: 0.8252427184466019\n"
     ]
    }
   ],
   "source": [
    "# Entreno mi mejor modelo con los mejores parametros para evaluarlo en mi conjunto de validación y de prueba\n",
    "print('El mejor modelo fue:', best_model_forest)\n",
    "best_model_forest.fit(features_train, target_train)\n",
    "\n",
    "# Accuracy en mi set de Validación\n",
    "valid_predictions = best_model_forest.predict(features_valid)\n",
    "valid_accuracy = accuracy_score(target_valid, valid_predictions)\n",
    "print('\\nAccuracy en mi set de validación es de:', valid_accuracy)\n",
    "\n",
    "# Accuracy en mi set de Prueba\n",
    "test_predictions = best_model_forest.predict(features_test)\n",
    "test_accuracy = accuracy_score(target_test, test_predictions)\n",
    "print('\\nAccuracy en mi set de test es de:', test_accuracy)"
   ]
  },
  {
   "cell_type": "markdown",
   "id": "6f536866",
   "metadata": {},
   "source": [
    "Para este proyecto se tomo el dataset y se entrenaron modelos de arbol, bosque y regresion para ver cual me daba un resultado mas exacto. En este caso el mejor modelo fuer RandomForest con una porofundidad de 10 y 10 arboles, un accuracy del 82.52% en mi dataset de prueba. Superando el 75% que se pedia. Definitivamente un modelo que puede predecir muy bien."
   ]
  },
  {
   "cell_type": "markdown",
   "id": "78dab44f",
   "metadata": {},
   "source": [
    "<div class=\"alert alert-block alert-success\">\n",
    "<b>Comentario del revisor (1ra Iteración)</b> <a class=“tocSkip”></a>\n",
    "\n",
    "Carlos has implementado correctamente el modelo de clasificación, empleando de forma estratégica los subconjuntos de entrenamiento validación, obteniendo un exactitud que supera el umbral definido.\n",
    "    \n",
    "\n",
    "\n",
    "</div>"
   ]
  }
 ],
 "metadata": {
  "kernelspec": {
   "display_name": "Python 3 (ipykernel)",
   "language": "python",
   "name": "python3"
  },
  "language_info": {
   "codemirror_mode": {
    "name": "ipython",
    "version": 3
   },
   "file_extension": ".py",
   "mimetype": "text/x-python",
   "name": "python",
   "nbconvert_exporter": "python",
   "pygments_lexer": "ipython3",
   "version": "3.9.19"
  },
  "toc": {
   "base_numbering": 1,
   "nav_menu": {},
   "number_sections": true,
   "sideBar": true,
   "skip_h1_title": true,
   "title_cell": "Table of Contents",
   "title_sidebar": "Contents",
   "toc_cell": false,
   "toc_position": {},
   "toc_section_display": true,
   "toc_window_display": false
  }
 },
 "nbformat": 4,
 "nbformat_minor": 5
}
